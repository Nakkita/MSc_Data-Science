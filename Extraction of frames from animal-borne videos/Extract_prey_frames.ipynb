{
 "cells": [
  {
   "cell_type": "code",
   "execution_count": 1,
   "metadata": {},
   "outputs": [],
   "source": [
    "from datetime import datetime, timedelta \n",
    "import pandas as pd\n",
    "import datetime as dt\n",
    "\n",
    "import os, glob, subprocess\n",
    "from shutil import copyfile"
   ]
  },
  {
   "cell_type": "code",
   "execution_count": 2,
   "metadata": {},
   "outputs": [],
   "source": [
    "def sanity_check_ffmpeg():\n",
    "\n",
    "    try:\n",
    "        check = subprocess.check_output(\"ffmpeg -version\", shell=True)\n",
    "    except:\n",
    "        return 'Not installed.'\n",
    "    return check[0:35]\n"
   ]
  },
  {
   "cell_type": "code",
   "execution_count": 19,
   "metadata": {},
   "outputs": [
    {
     "data": {
      "text/plain": [
       "b'ffmpeg version 2.7 Copyright (c) 20'"
      ]
     },
     "execution_count": 19,
     "metadata": {},
     "output_type": "execute_result"
    }
   ],
   "source": [
    "sanity_check_ffmpeg()"
   ]
  },
  {
   "cell_type": "code",
   "execution_count": 3,
   "metadata": {
    "collapsed": true
   },
   "outputs": [
    {
     "name": "stdout",
     "output_type": "stream",
     "text": [
      "Requirement already satisfied: ffmpeg in c:\\users\\nakki\\anaconda3\\lib\\site-packages (1.4)\n",
      "Note: you may need to restart the kernel to use updated packages.\n"
     ]
    }
   ],
   "source": [
    "pip install ffmpeg\n"
   ]
  },
  {
   "cell_type": "code",
   "execution_count": 3,
   "metadata": {},
   "outputs": [],
   "source": [
    "class Extract_Prey_Frames:\n",
    "\n",
    "    def __init__(self):\n",
    "        pass\n",
    "    \n",
    "    def set_movie_name(self, movie_name):\n",
    "        self.movie_name = movie_name\n",
    "        \n",
    "    def set_movie_number(self, movie_number):\n",
    "        self.movie_number = movie_number\n",
    "        \n",
    "    def set_data_number(self, data_number):\n",
    "        self.data_number = data_number\n",
    "        \n",
    "    def set_category_name(self, category_name):\n",
    "        self.category_name = category_name\n",
    "    \n",
    "    def set_data_file(self, file_name):\n",
    "        self.file_name = file_name\n",
    "        \n",
    "    def set_first_good_frame_time(self, time):\n",
    "        self.first_frame_time = time\n",
    "        \n",
    "    def set_true_movie_start_time(self, time):\n",
    "        self.movie_start_time = time\n",
    "        \n",
    "    def set_video_date(self, date):\n",
    "        self.video_date = date\n",
    "        \n",
    "    def read_data_file(self, separator='\\t'):\n",
    "        self.df = pd.read_csv(self.file_name, sep=separator)\n",
    "    \n",
    "    def get_df_columns(self):\n",
    "        return self.df.columns\n",
    "    \n",
    "    def apply_ffmpeg(self, fps):\n",
    "        \n",
    "        path = 'Video_Files/'+self.category_name+'/'+self.movie_name+'.avi'\n",
    "        os.system(\"ffmpeg -i {0} -r {1} -f image2 {0}_image-%2d.png\".format(path, fps))\n",
    "            \n",
    "    def create_directory_for_images(self):\n",
    "        # Create the directory incase it doesn't exist\n",
    "        try:\n",
    "            os.makedirs('Images/'+self.category_name+'/'+self.movie_name)\n",
    "        except:\n",
    "            print('exists')\n",
    "\n",
    "    def get_files(self, directory):\n",
    "        files = []\n",
    "        os.chdir(directory)\n",
    "        for file in glob.glob(\"*.png\"):\n",
    "            files.append(file)\n",
    "\n",
    "        os.chdir('../..')\n",
    "        return files\n",
    "    \n",
    "    def get_dataframe_start_time(self, max_video_count=17):\n",
    "\n",
    "        for i in range (2, max_video_count+1):\n",
    "            video = self.df[self.df['Video']==i]\n",
    "            print('Dataframe file', i,'movie:', i-1,'starts at :',video.iloc[0]['dateW'])\n",
    "    \n",
    "    def contains_feature(self, max_video_count=17, feature_column='Preycapture', feature_code=1):\n",
    "\n",
    "        for i in range (1, max_video_count+1):\n",
    "            video = self.df[self.df['Video']==i]\n",
    "            print('Dataframe file', i,'contains:',len(video[video[feature_column] == feature_code]))\n",
    "    \n",
    "    def move_prey_frames(self, times):\n",
    "    \n",
    "    \n",
    "        list_of_files = self.get_files('Images/'+self.category_name+'/'+self.movie_name)\n",
    "        os.chdir('..')\n",
    "        \n",
    "        # Create the directory incase it doesn't exist\n",
    "        try:\n",
    "            os.makedirs('Extracted_frames'+'/'+str(self.category_name)+'/'+self.movie_name)\n",
    "        except:\n",
    "            print('exists')\n",
    "\n",
    "        for timestamp in times:\n",
    "            formatted_stamp=str(timestamp).replace(\":\",\"_\")\n",
    "            formatted_stamp=formatted_stamp.replace(\" \",\"_\")\n",
    "            \n",
    "            print (str(timestamp))\n",
    "            # Get all the files that match the timestamp substring\n",
    "            matching_files = [s for s in list_of_files if str(formatted_stamp) in s]\n",
    "\n",
    "            for matching_file in matching_files:\n",
    "                old_name = os.path.join('Images/'+self.category_name+'/'+self.movie_name, matching_file)\n",
    "                new_file_name = self.category_name+'_'+str(self.data_number)+'_'+matching_file\n",
    "                \n",
    "                new_name = os.path.join('Extracted_frames'+'/'+str(self.category_name)+'/'+self.movie_name, new_file_name)\n",
    "                print ('move ',  old_name , 'to', new_name)\n",
    "                print(copyfile(old_name, new_name))\n",
    "                \n",
    "    \n",
    "    def get_frames_from_data(self, feature_column, feature_code, df_time):\n",
    "        \n",
    "        # Find rows in the dataframe for which the video number match\n",
    "        # Note that this is not the true movie number.\n",
    "        video = self.df[self.df['Video']==self.data_number]\n",
    "\n",
    "        # Get the rows that match the particular feature and value.\n",
    "        # For example, Preycapture == 2 or Preycapture == 3\n",
    "        prey_capture_df = video[video[feature_column] == feature_code]\n",
    "\n",
    "        # If there are no rows there there are no frames to extract and\n",
    "        # the function can terminate\n",
    "        if len(prey_capture_df) == 0:\n",
    "            print ('No prey captures found.')\n",
    "            return None\n",
    "\n",
    "        prey_capture_df['Date'] = pd.to_datetime(prey_capture_df['dateW'])\n",
    "        prey_capture_df['Date'] = prey_capture_df['Date'].apply(lambda x: dt.datetime.strftime(x, '%d-%m-%Y_%H_%M_%S'))\n",
    "        prey_capture_df = prey_capture_df.groupby('Date').first().reset_index().drop(['dateW','depth','aX','aY','aZ','Position'],axis=1)\n",
    "\n",
    "        list_of_times = []\n",
    "        df_time_start = datetime.strptime(df_time, '%d-%m-%Y_%H_%M_%S')\n",
    "        for index, row in prey_capture_df.iterrows():\n",
    "            print('Prey dataframe_time: ',datetime.strptime(row['Date'], '%d-%m-%Y_%H_%M_%S'))\n",
    "            val = datetime.strptime(row['Date'], '%d-%m-%Y_%H_%M_%S') - df_time_start\n",
    "            print('Relative change in time: ',datetime.strptime(row['Date'], '%d-%m-%Y_%H_%M_%S') - df_time_start)\n",
    "            print('Correct time in movie file: ',datetime.strptime(self.movie_start_time, '%d-%m-%Y_%H_%M_%S') +  val)\n",
    "            \n",
    "            list_of_times.append(datetime.strptime(self.movie_start_time, '%d-%m-%Y_%H_%M_%S') +  val)\n",
    "            print()\n",
    "\n",
    "        return list_of_times\n",
    "    \n",
    "    def update_names_in_folder(self, start_index, frame_rate):\n",
    "        '''\n",
    "        This function iterates over each image and renames it based on the timestamp in the frame.\n",
    "        The resulting file names will be in this format dd-mm-yyyy_hh-mm-ss_frame_number\n",
    "        Depending on the frame rate there will be various frame numbers for a particular time stamp.\n",
    "        `folder_name` is the folder with the original extracted frames\n",
    "        `destination_folder_name` is the folder for which the re-named frames should be placed\n",
    "        `start_index` is used to offset the renaming as it appears that the video is not completely synced in time.\n",
    "        The idea here is to find the first frame in the video which corresponds to the next time stamp. E.g if the \n",
    "        first frame in the video is 10:04:22, then find the first frame for 10:04:23. If that frame was the 10th one\n",
    "        then start_index = 10.\n",
    "        `time` denotes the starting time in the first frame of the video eg: 10:02:09\n",
    "        `date` denotes the date of the video eg: 26/12/2017\n",
    "        '''\n",
    "\n",
    "        files = self.get_files('Video_Files/'+self.category_name)\n",
    "        time_stamp = datetime.strptime(self.video_date+str('-')+str(self.first_frame_time), '%d/%m/%Y-%H:%M:%S')\n",
    "        current_time = time_stamp\n",
    "\n",
    "        i = 0\n",
    "\n",
    "        frame_counter = 0\n",
    "\n",
    "        while i <= len(files)-frame_rate-start_index+1:\n",
    "            current=str(current_time).replace(\":\",\"_\")\n",
    "            current=current.replace(\" \", \"_\")\n",
    "\n",
    "            for j in range (0, frame_rate):\n",
    "                \n",
    "                old_name = os.path.join('Video_Files/'+self.category_name, self.movie_name+'.avi_'+'image-{:02d}.png'.format(i+j+start_index))\n",
    "                new_name = os.path.join('Images/'+self.category_name+'/'+self.movie_name, self.movie_name+'.avi_'+'image_{}_{}.png'.format(current,frame_counter))\n",
    "                os.rename(old_name,new_name) \n",
    "                frame_counter = frame_counter + 1\n",
    "\n",
    "            i += frame_rate\n",
    "\n",
    "            current_time = current_time + timedelta(seconds = 1)\n",
    "    \n",
    "    "
   ]
  },
  {
   "cell_type": "markdown",
   "metadata": {},
   "source": [
    "Initialise the class"
   ]
  },
  {
   "cell_type": "code",
   "execution_count": 74,
   "metadata": {},
   "outputs": [],
   "source": [
    "extract = Extract_Prey_Frames()"
   ]
  },
  {
   "cell_type": "markdown",
   "metadata": {},
   "source": [
    "Set the name of the spreadsheet"
   ]
  },
  {
   "cell_type": "code",
   "execution_count": 75,
   "metadata": {},
   "outputs": [],
   "source": [
    "extract.set_data_file('GI-LP0242-(1)-aligned-corrected.txt')\n",
    "extract.read_data_file()"
   ]
  },
  {
   "cell_type": "markdown",
   "metadata": {},
   "source": [
    "View the columns in the spreadsheet"
   ]
  },
  {
   "cell_type": "code",
   "execution_count": 76,
   "metadata": {
    "scrolled": true
   },
   "outputs": [
    {
     "data": {
      "text/plain": [
       "Index(['dateW', 'aX', 'aY', 'aZ', 'latitude', 'longitude', 'depth', 'Position',\n",
       "       'Preytype', 'Preyabundance', 'Preycapture', 'Cons.het',\n",
       "       'Cons_hetabundance', 'Video', 'Comments'],\n",
       "      dtype='object')"
      ]
     },
     "execution_count": 76,
     "metadata": {},
     "output_type": "execute_result"
    }
   ],
   "source": [
    "extract.get_df_columns()"
   ]
  },
  {
   "cell_type": "markdown",
   "metadata": {},
   "source": [
    "The `contains_feature` column let's you see how many rows of data are found based on the column and value. In this case the 'preycapture' column is used along with a value of 3 which corresponds to 'Handling (H)'. Different values can be explored. This is useful as it gives us information as to which video file we should process. Files which have no row data means that there might be no useful frame in that particular video."
   ]
  },
  {
   "cell_type": "code",
   "execution_count": 73,
   "metadata": {
    "scrolled": false
   },
   "outputs": [
    {
     "name": "stdout",
     "output_type": "stream",
     "text": [
      "Dataframe file 1 contains: 0\n",
      "Dataframe file 2 contains: 47\n",
      "Dataframe file 3 contains: 0\n",
      "Dataframe file 4 contains: 0\n",
      "Dataframe file 5 contains: 0\n",
      "Dataframe file 6 contains: 0\n",
      "Dataframe file 7 contains: 0\n",
      "Dataframe file 8 contains: 0\n",
      "Dataframe file 9 contains: 0\n",
      "Dataframe file 10 contains: 0\n",
      "Dataframe file 11 contains: 0\n",
      "Dataframe file 12 contains: 494\n",
      "Dataframe file 13 contains: 687\n",
      "Dataframe file 14 contains: 0\n",
      "Dataframe file 15 contains: 0\n",
      "Dataframe file 16 contains: 74\n",
      "Dataframe file 17 contains: 0\n"
     ]
    }
   ],
   "source": [
    "extract.contains_feature(feature_column='Preytype',feature_code=5)"
   ]
  },
  {
   "cell_type": "markdown",
   "metadata": {},
   "source": [
    "Check the number of frames in each video which have `Preycapture` with a value of 2.\n",
    "\n",
    "A value of zero means that for that particular video/data time there were not frames matching the value of 2. A value of 2 denotes: \"Strike left (L)\"] <- \"2\" \"Strike forward (F)\"] <- \"2\" \"Strike right (R)\"]. This information was obtained from the file: Little penguin cam alignment read me.txt"
   ]
  },
  {
   "cell_type": "code",
   "execution_count": 57,
   "metadata": {},
   "outputs": [
    {
     "name": "stdout",
     "output_type": "stream",
     "text": [
      "Dataframe file 1 contains: 0\n",
      "Dataframe file 2 contains: 0\n",
      "Dataframe file 3 contains: 0\n",
      "Dataframe file 4 contains: 0\n",
      "Dataframe file 5 contains: 0\n",
      "Dataframe file 6 contains: 0\n",
      "Dataframe file 7 contains: 0\n",
      "Dataframe file 8 contains: 0\n",
      "Dataframe file 9 contains: 0\n",
      "Dataframe file 10 contains: 0\n",
      "Dataframe file 11 contains: 0\n",
      "Dataframe file 12 contains: 0\n",
      "Dataframe file 13 contains: 0\n",
      "Dataframe file 14 contains: 0\n",
      "Dataframe file 15 contains: 0\n",
      "Dataframe file 16 contains: 0\n",
      "Dataframe file 17 contains: 0\n"
     ]
    }
   ],
   "source": [
    "extract.contains_feature(feature_column='Preycapture',feature_code=5)"
   ]
  },
  {
   "cell_type": "markdown",
   "metadata": {},
   "source": [
    "Get the start time (from the spreadsheet) of each video.\n",
    "\n",
    "Note that this is not the start time in the movie file.\n",
    "\n",
    "The start time in the movie file has to be manually obtained.\n",
    "\n",
    "It seems that in general, the movie number is one less than the dataframe video number. The mapping of videos to movie number is found in the file: LP.movie.and.corresponding.video.order(1).xlsx"
   ]
  },
  {
   "cell_type": "code",
   "execution_count": 77,
   "metadata": {
    "scrolled": false
   },
   "outputs": [
    {
     "name": "stdout",
     "output_type": "stream",
     "text": [
      "Dataframe file 2 movie: 1 starts at : 2016-10-20 06:06:15.96\n",
      "Dataframe file 3 movie: 2 starts at : 2016-10-20 06:26:16.96\n",
      "Dataframe file 4 movie: 3 starts at : 2016-10-20 07:06:49.96\n",
      "Dataframe file 5 movie: 4 starts at : 2016-10-20 07:26:50.96\n",
      "Dataframe file 6 movie: 5 starts at : 2016-10-20 08:07:26.96\n",
      "Dataframe file 7 movie: 6 starts at : 2016-10-20 08:27:27.96\n",
      "Dataframe file 8 movie: 7 starts at : 2016-10-20 09:07:57.96\n",
      "Dataframe file 9 movie: 8 starts at : 2016-10-20 09:27:58.96\n",
      "Dataframe file 10 movie: 9 starts at : 2016-10-20 10:08:26.96\n",
      "Dataframe file 11 movie: 10 starts at : 2016-10-20 10:28:27.96\n",
      "Dataframe file 12 movie: 11 starts at : 2016-10-20 11:08:49.96\n",
      "Dataframe file 13 movie: 12 starts at : 2016-10-20 11:28:50.96\n",
      "Dataframe file 14 movie: 13 starts at : 2016-10-20 12:09:33.96\n",
      "Dataframe file 15 movie: 14 starts at : 2016-10-20 12:29:34.96\n",
      "Dataframe file 16 movie: 15 starts at : 2016-10-20 13:10:14.96\n",
      "Dataframe file 17 movie: 16 starts at : 2016-10-20 13:30:15.96\n"
     ]
    }
   ],
   "source": [
    "extract.get_dataframe_start_time()"
   ]
  },
  {
   "cell_type": "markdown",
   "metadata": {},
   "source": [
    "Set the name of the movie file. Do not add the extension."
   ]
  },
  {
   "cell_type": "code",
   "execution_count": 78,
   "metadata": {},
   "outputs": [],
   "source": [
    "extract.set_movie_name('MOVI0011')"
   ]
  },
  {
   "cell_type": "markdown",
   "metadata": {},
   "source": [
    "Set the movie number.\n",
    "\n",
    "This is the true movie file number."
   ]
  },
  {
   "cell_type": "code",
   "execution_count": 79,
   "metadata": {},
   "outputs": [],
   "source": [
    "extract.set_movie_number(11)"
   ]
  },
  {
   "cell_type": "markdown",
   "metadata": {},
   "source": [
    "Set the video number.\n",
    "\n",
    "This is not the true movie number, but the number in the spreadsheet."
   ]
  },
  {
   "cell_type": "code",
   "execution_count": 80,
   "metadata": {},
   "outputs": [],
   "source": [
    "extract.set_data_number(12)"
   ]
  },
  {
   "cell_type": "markdown",
   "metadata": {},
   "source": [
    "Set the name of the category."
   ]
  },
  {
   "cell_type": "code",
   "execution_count": 81,
   "metadata": {},
   "outputs": [],
   "source": [
    "extract.set_category_name('GI-LP0242')"
   ]
  },
  {
   "cell_type": "markdown",
   "metadata": {},
   "source": [
    "Set the true start time from the very first frame in the movie file. Open the movie and pause it immediately, you'll see the timestamp for the very first frame.\n",
    "\n",
    "The format should be as follows: `dd-mm-yyyy_HH_mm_ss`"
   ]
  },
  {
   "cell_type": "code",
   "execution_count": 82,
   "metadata": {},
   "outputs": [],
   "source": [
    "extract.set_true_movie_start_time('20-11-2016_10_41_07')"
   ]
  },
  {
   "cell_type": "markdown",
   "metadata": {},
   "source": [
    "Set the date from the video. This is the date displayed on the video frames"
   ]
  },
  {
   "cell_type": "code",
   "execution_count": 83,
   "metadata": {},
   "outputs": [],
   "source": [
    "extract.set_video_date('20/11/2016')"
   ]
  },
  {
   "cell_type": "markdown",
   "metadata": {},
   "source": [
    "This will create a folder called \"Images\" where the final images will be stored in."
   ]
  },
  {
   "cell_type": "code",
   "execution_count": 84,
   "metadata": {},
   "outputs": [],
   "source": [
    "extract.create_directory_for_images()"
   ]
  },
  {
   "cell_type": "markdown",
   "metadata": {},
   "source": [
    "Extract the frames from the video. This operation makes use of ffmpeg (https://www.ffmpeg.org/)\n",
    "\n",
    "Here you must specify the frame rate. 15 seems to be a good value. A value of 30 will result in a lot more frames which could be useful for ML; but this will also result in more disk space being used to store all the images."
   ]
  },
  {
   "cell_type": "code",
   "execution_count": 85,
   "metadata": {},
   "outputs": [],
   "source": [
    "extract.apply_ffmpeg(30)"
   ]
  },
  {
   "cell_type": "markdown",
   "metadata": {},
   "source": [
    "At this point you'll have many image files in the Image folder. Open the first one which gives you the first timestamp.\n",
    "\n",
    "The framerate doesn't seem to be constant throughout the video, and the first timestamp seems to last longer than the others. For this reason, we set the second timestamp to be the first \"good\" one. To do this, go to the next image until the timestamp changes. Set the value below to the second timestamp. Format: HH:MM:SS\n",
    "\n",
    "As a result of this, the frames prior to this \"second\" timestamp will be ignored. You can manually delete those files later on."
   ]
  },
  {
   "cell_type": "code",
   "execution_count": 86,
   "metadata": {},
   "outputs": [],
   "source": [
    "extract.set_first_good_frame_time('10:41:08') "
   ]
  },
  {
   "cell_type": "markdown",
   "metadata": {},
   "source": [
    "The next function will rename each file with the corresponding timestamp name. Of course given that the frame rate is not consistent it is possible that there is a slight lag and the file name does not match the correct timestamp in the image.\n",
    "\n",
    "The resulting file names will have this format: `movie_name.avi_image_date time_index.png` for example: MOVI0015.avi_image_2016-10-18 13:01:56_0.png the 'index' is just a counter which starts from 0. This was done because for a given time there may be several images if a high frame rate was used with ffmpeg. \n",
    "\n",
    "Here you must specify the frame rate you used above.\n",
    "\n",
    "You must also also specify the start_index. This value is the index number of the \"second\" timestamp discussed above. For example, if the video starts at 13:30:01 (note that the very first frame will be called ...13:30:01\\_0.png) then after a few frames the timestamp changes to 13:30:02. This timestamp is the \"second\" timestamp. This file will have an index number, for example ...13:30:02\\10.png (11th file, we start from zero). In this case, start_index=10"
   ]
  },
  {
   "cell_type": "code",
   "execution_count": 87,
   "metadata": {},
   "outputs": [],
   "source": [
    "extract.update_names_in_folder(start_index=14, frame_rate=30)"
   ]
  },
  {
   "cell_type": "markdown",
   "metadata": {},
   "source": [
    "\n",
    "Specify the feature and the value to use.\n",
    "\n",
    "Specify the dataframe start time for the particular movie file. This can be obtained using the function `get_dataframe_start_time` which was done earlier in this notebook. This is not the start time of the movie but rather the start time in the spreadsheet. In this example the preycapture feature is used with a value of 3. It appears that preycapture is better than prey_type."
   ]
  },
  {
   "cell_type": "code",
   "execution_count": 92,
   "metadata": {
    "scrolled": true
   },
   "outputs": [
    {
     "name": "stdout",
     "output_type": "stream",
     "text": [
      "No prey captures found.\n"
     ]
    }
   ],
   "source": [
    "times = extract.get_frames_from_data(feature_column = 'Preytype', \n",
    "                                     feature_code = 3, \n",
    "                                     df_time= '20-11-2016_11_08_49')"
   ]
  },
  {
   "cell_type": "markdown",
   "metadata": {},
   "source": [
    "Finally, this function extracts the corresponding frames and places them in the Image folder."
   ]
  },
  {
   "cell_type": "code",
   "execution_count": 93,
   "metadata": {
    "collapsed": true
   },
   "outputs": [
    {
     "name": "stdout",
     "output_type": "stream",
     "text": [
      "exists\n"
     ]
    },
    {
     "ename": "TypeError",
     "evalue": "'NoneType' object is not iterable",
     "output_type": "error",
     "traceback": [
      "\u001b[1;31m---------------------------------------------------------------------------\u001b[0m",
      "\u001b[1;31mTypeError\u001b[0m                                 Traceback (most recent call last)",
      "\u001b[1;32m<ipython-input-93-442f92f3d30d>\u001b[0m in \u001b[0;36m<module>\u001b[1;34m\u001b[0m\n\u001b[1;32m----> 1\u001b[1;33m \u001b[0mextract\u001b[0m\u001b[1;33m.\u001b[0m\u001b[0mmove_prey_frames\u001b[0m\u001b[1;33m(\u001b[0m\u001b[0mtimes\u001b[0m\u001b[1;33m)\u001b[0m\u001b[1;33m\u001b[0m\u001b[1;33m\u001b[0m\u001b[0m\n\u001b[0m",
      "\u001b[1;32m<ipython-input-3-39a9511a3612>\u001b[0m in \u001b[0;36mmove_prey_frames\u001b[1;34m(self, times)\u001b[0m\n\u001b[0;32m     79\u001b[0m             \u001b[0mprint\u001b[0m\u001b[1;33m(\u001b[0m\u001b[1;34m'exists'\u001b[0m\u001b[1;33m)\u001b[0m\u001b[1;33m\u001b[0m\u001b[1;33m\u001b[0m\u001b[0m\n\u001b[0;32m     80\u001b[0m \u001b[1;33m\u001b[0m\u001b[0m\n\u001b[1;32m---> 81\u001b[1;33m         \u001b[1;32mfor\u001b[0m \u001b[0mtimestamp\u001b[0m \u001b[1;32min\u001b[0m \u001b[0mtimes\u001b[0m\u001b[1;33m:\u001b[0m\u001b[1;33m\u001b[0m\u001b[1;33m\u001b[0m\u001b[0m\n\u001b[0m\u001b[0;32m     82\u001b[0m             \u001b[0mformatted_stamp\u001b[0m\u001b[1;33m=\u001b[0m\u001b[0mstr\u001b[0m\u001b[1;33m(\u001b[0m\u001b[0mtimestamp\u001b[0m\u001b[1;33m)\u001b[0m\u001b[1;33m.\u001b[0m\u001b[0mreplace\u001b[0m\u001b[1;33m(\u001b[0m\u001b[1;34m\":\"\u001b[0m\u001b[1;33m,\u001b[0m\u001b[1;34m\"_\"\u001b[0m\u001b[1;33m)\u001b[0m\u001b[1;33m\u001b[0m\u001b[1;33m\u001b[0m\u001b[0m\n\u001b[0;32m     83\u001b[0m             \u001b[0mformatted_stamp\u001b[0m\u001b[1;33m=\u001b[0m\u001b[0mformatted_stamp\u001b[0m\u001b[1;33m.\u001b[0m\u001b[0mreplace\u001b[0m\u001b[1;33m(\u001b[0m\u001b[1;34m\" \"\u001b[0m\u001b[1;33m,\u001b[0m\u001b[1;34m\"_\"\u001b[0m\u001b[1;33m)\u001b[0m\u001b[1;33m\u001b[0m\u001b[1;33m\u001b[0m\u001b[0m\n",
      "\u001b[1;31mTypeError\u001b[0m: 'NoneType' object is not iterable"
     ]
    }
   ],
   "source": [
    "extract.move_prey_frames(times)"
   ]
  }
 ],
 "metadata": {
  "kernelspec": {
   "display_name": "Python 3",
   "language": "python",
   "name": "python3"
  },
  "language_info": {
   "codemirror_mode": {
    "name": "ipython",
    "version": 3
   },
   "file_extension": ".py",
   "mimetype": "text/x-python",
   "name": "python",
   "nbconvert_exporter": "python",
   "pygments_lexer": "ipython3",
   "version": "3.8.3"
  }
 },
 "nbformat": 4,
 "nbformat_minor": 2
}
