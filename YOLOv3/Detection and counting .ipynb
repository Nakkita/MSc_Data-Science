{
 "cells": [
  {
   "cell_type": "markdown",
   "metadata": {},
   "source": [
    "Counting tool"
   ]
  },
  {
   "cell_type": "code",
   "execution_count": 3,
   "metadata": {},
   "outputs": [],
   "source": [
    "import pandas as pd\n",
    "import numpy as np\n",
    "import os"
   ]
  },
  {
   "cell_type": "code",
   "execution_count": 4,
   "metadata": {},
   "outputs": [],
   "source": [
    "os.chdir(\"C:\\\\Users\\\\nakki\\\\Downloads\\\\Masters\\\\test results\\\\\")"
   ]
  },
  {
   "cell_type": "code",
   "execution_count": 5,
   "metadata": {},
   "outputs": [],
   "source": [
    "read_file = pd.read_csv(r\"testresults.txt\")"
   ]
  },
  {
   "cell_type": "code",
   "execution_count": 6,
   "metadata": {},
   "outputs": [],
   "source": [
    "file_string=read_file.to_string()"
   ]
  },
  {
   "cell_type": "code",
   "execution_count": null,
   "metadata": {},
   "outputs": [],
   "source": [
    "text= file_string.split(\"\\n\")"
   ]
  },
  {
   "cell_type": "code",
   "execution_count": null,
   "metadata": {},
   "outputs": [],
   "source": [
    "newtext=[]\n",
    "for line in text:\n",
    "    if 'Detection' not in line:\n",
    "        newtext.append(line)"
   ]
  },
  {
   "cell_type": "code",
   "execution_count": null,
   "metadata": {},
   "outputs": [],
   "source": [
    "newtext2=[]\n",
    "for n in newtext:\n",
    "    nn=n.replace(\")\",'')\n",
    "    yy=nn.replace(\":\",'')\n",
    "    newtext2.append(yy)\n"
   ]
  },
  {
   "cell_type": "code",
   "execution_count": null,
   "metadata": {},
   "outputs": [],
   "source": [
    "newtext3=[]\n",
    "for k in range(0, len(newtext2)):\n",
    "    jj=newtext2[k][5:]\n",
    "    newtext3.append(jj)\n"
   ]
  },
  {
   "cell_type": "code",
   "execution_count": null,
   "metadata": {},
   "outputs": [],
   "source": [
    "def listToString(s): \n",
    "    \n",
    "    # initialize an empty string\n",
    "    str1 = \"\" \n",
    "    \n",
    "    # traverse in the string  \n",
    "    for ele in s: \n",
    "        str1 += ele  \n",
    "    \n",
    "    # return string  \n",
    "    return str1 \n",
    "        "
   ]
  },
  {
   "cell_type": "code",
   "execution_count": null,
   "metadata": {},
   "outputs": [],
   "source": [
    "newtext4=listToString(newtext3)"
   ]
  },
  {
   "cell_type": "code",
   "execution_count": 12,
   "metadata": {},
   "outputs": [],
   "source": [
    "newtext5=newtext4.split('data/test/')"
   ]
  },
  {
   "cell_type": "code",
   "execution_count": 13,
   "metadata": {},
   "outputs": [],
   "source": [
    "newtext6=[]\n",
    "for r in newtext5:\n",
    "    text=r.split()\n",
    "    text2=text\n",
    "    newtext6.append(text2)"
   ]
  },
  {
   "cell_type": "code",
   "execution_count": null,
   "metadata": {},
   "outputs": [],
   "source": [
    "newtext7=newtext6[1:]"
   ]
  },
  {
   "cell_type": "code",
   "execution_count": null,
   "metadata": {},
   "outputs": [],
   "source": [
    "classes=['Jellyfish','SOF','fish']\n",
    "textsall=[]\n",
    "imagesall=[]\n",
    "classesall=[]\n",
    "coordsall=[]\n",
    "PDsall=[]\n",
    "for i in range(0, len(newtext7)):\n",
    "    text=newtext7[i]\n",
    "    images=[]\n",
    "    image_name=text[0]\n",
    "    images.append(image_name)\n",
    "    allclasses=[]\n",
    "    coords=[]\n",
    "    PDs=[]\n",
    "    for j in range(0, len(text)):\n",
    "        if text[j] in classes:\n",
    "            allclasses.append(text[j])\n",
    "        \n",
    "        if \"%\" in text[j]:\n",
    "            probs=text[j].split(\"%\")[0]\n",
    "            PDs.append(probs)\n",
    "         \n",
    "        try:\n",
    "            number=int(text[j])\n",
    "            coords.append(number)\n",
    "        except ValueError:\n",
    "            pass\n",
    "    final=[images,allclasses,coords, PDs]\n",
    "    textsall.append(final)\n",
    "    imagesall.append(images)\n",
    "    classesall.append(allclasses)\n",
    "    coordsall.append(coords)\n",
    "    PDsall.append(PDs)"
   ]
  },
  {
   "cell_type": "code",
   "execution_count": null,
   "metadata": {},
   "outputs": [],
   "source": [
    "def chunks(list_in, n):\n",
    "    # For item i in a range that is a length of l,\n",
    "    for i in range(0, len(list_in), n):\n",
    "        # Create an index range for l of n items:\n",
    "        yield list_in[i:i+n]"
   ]
  },
  {
   "cell_type": "code",
   "execution_count": null,
   "metadata": {},
   "outputs": [],
   "source": [
    "# then just do this to get your output\n",
    "coords_split=[]\n",
    "for m in coordsall:\n",
    "    x=list(chunks(m, 4))\n",
    "    coords_split.append(x)"
   ]
  },
  {
   "cell_type": "code",
   "execution_count": null,
   "metadata": {},
   "outputs": [],
   "source": [
    "keep=[]\n",
    "for i in range(0, len(coords_split)):\n",
    "    zip_iter=zip(classesall[i], coords_split[i], PDsall[i])\n",
    "    new=list(zip_iter)\n",
    "    keep.append(new)"
   ]
  },
  {
   "cell_type": "code",
   "execution_count": null,
   "metadata": {},
   "outputs": [],
   "source": [
    "imagesall_nopng=[]\n",
    "for k in range(0, len(imagesall)):\n",
    "    imagesnew= imagesall[k][0].replace(\".png\", \"\")\n",
    "    imagesall_nopng.append(imagesnew)\n",
    "    "
   ]
  },
  {
   "cell_type": "code",
   "execution_count": 23,
   "metadata": {},
   "outputs": [],
   "source": [
    "import os"
   ]
  },
  {
   "cell_type": "code",
   "execution_count": 25,
   "metadata": {},
   "outputs": [],
   "source": [
    "#write text files for detections for each image \n",
    "for p in range(0, len(imagesall_nopng)):\n",
    "    filename=imagesall_nopng[p]+\".txt\"\n",
    "    save_path=\"C:\\\\Users\\\\nakki\\\\Downloads\\\\Masters\\\\test results\\\\textfiles\\\\\"\n",
    "    completeName = os.path.join(save_path, filename) \n",
    "    s=\" \".join(map(str, keep[p]))\n",
    "    with open(completeName, \"w\") as output:\n",
    "              output.write(s)"
   ]
  },
  {
   "cell_type": "code",
   "execution_count": 188,
   "metadata": {},
   "outputs": [],
   "source": [
    "################################## BOUNDING BOXES ###############################################################"
   ]
  },
  {
   "cell_type": "code",
   "execution_count": null,
   "metadata": {},
   "outputs": [],
   "source": [
    "################################# BOUNDING BOXES ###############################################################"
   ]
  },
  {
   "cell_type": "code",
   "execution_count": null,
   "metadata": {},
   "outputs": [],
   "source": [
    "#################### fully automated code of reading txt files and bounding boxes###################################"
   ]
  },
  {
   "cell_type": "code",
   "execution_count": 33,
   "metadata": {},
   "outputs": [],
   "source": [
    "#edit this to change directories when processing different files\n",
    "import cv2\n",
    "import re\n",
    "from collections import Counter\n",
    "import itertools\n",
    "\n",
    "images_path=\"C:\\\\Users\\\\nakki\\\\Downloads\\\\Masters\\\\All Masters Data\\\\Original\\\\test\\\\test\\\\\"\n",
    "\n",
    "input_txt_dir=\"C:\\\\Users\\\\nakki\\\\Downloads\\\\Masters\\\\test results\\\\textfiles\\\\\"\n",
    "\n",
    "output_dir=\"C:\\\\Users\\\\nakki\\\\Downloads\\\\Masters\\\\test results\\\\output_s\\\\\"\n"
   ]
  },
  {
   "cell_type": "code",
   "execution_count": 34,
   "metadata": {},
   "outputs": [],
   "source": [
    "for s in range(0, len(imagesall_nopng)):\n",
    "    \n",
    "    #read in original image\n",
    "    filename2=imagesall_nopng[s]+\".png\"\n",
    "    os.chdir(images_path)\n",
    "    image=cv2.imread(filename2)\n",
    "    \n",
    "    #read in results proocessed txt file\n",
    "    os.chdir(input_txt_dir)\n",
    "    filename=imagesall_nopng[s]+\".txt\"\n",
    "    \n",
    "    with open(filename) as ff:\n",
    "        data=ff.readlines()\n",
    "        ff.close()\n",
    "\n",
    "    data2=str(data)\n",
    "    data3 = re.sub(r'[^\\w\\s{}]','',data2)\n",
    "    \n",
    "    coords=data3.split()\n",
    "    #################Counting#############################\n",
    "    \n",
    "    \n",
    "    newcoords11 = []\n",
    "    for i in range(0, len(coords), 6):\n",
    "        newcoords11.append(coords[i : i+6])\n",
    "        \n",
    "\n",
    "    newcoords12=[]   \n",
    "    for j in range(0, len(newcoords11)):\n",
    "        x=newcoords11[j]\n",
    "        if x[0]=='Jellyfish':\n",
    "            if int(x[5])<15:\n",
    "                x=[]\n",
    "        elif x[0]=='SOF':\n",
    "            if int(x[5])<10:\n",
    "                x=[]\n",
    "        else:\n",
    "            x\n",
    "        newcoords12.append(x)\n",
    "                \n",
    "    \n",
    "    \n",
    "    import itertools\n",
    "    merged = list(itertools.chain(*newcoords12))\n",
    "    \n",
    "    fish_count=merged.count('fish')\n",
    "    jelly_count=merged.count('Jellyfish')\n",
    "    SOF_count=merged.count('SOF')\n",
    "\n",
    "    fishtext='fish: {} '.format(fish_count)\n",
    "    jellytext='Jellyfish: {} '.format(jelly_count)\n",
    "    softext='SOF: {} '.format(SOF_count)\n",
    "    \n",
    "    \n",
    "    newcoords = []\n",
    "    for i in range(0, len(coords), 6):\n",
    "        newcoords.append(coords[i : i+6])\n",
    "        \n",
    "        \n",
    "    \n",
    "    for i in range(0, len(newcoords)):\n",
    "        detection=newcoords[i]\n",
    "        for j in range(0, len(detection)):\n",
    "            detection1=detection[j].split\n",
    "            classs=detection[0]\n",
    "            x=int(detection[1])\n",
    "            y=int(detection[2])\n",
    "            w=int(detection[3])\n",
    "            h=int(detection[4])\n",
    "            pd=int(detection[5])\n",
    "        \n",
    "            w1= x+w #converting width to x_max \n",
    "            h1= y+h  #converting height to y_max \n",
    "        \n",
    "        \n",
    "            os.chdir(output_dir)\n",
    "            thick=1\n",
    "        \n",
    "            if classs=='Jellyfish':\n",
    "                if pd>=15:\n",
    "                    green=(0, 255, 0)\n",
    "                    cv2.rectangle(image, (x, y), (w1, h1), green, thick)\n",
    "                \n",
    "                    cv2.putText(image,jellytext, \n",
    "                    (1100,700), \n",
    "                    cv2.FONT_HERSHEY_COMPLEX_SMALL, \n",
    "                    1,\n",
    "                    green,\n",
    "                    2)\n",
    "                    cv2.imwrite((filename2), image)\n",
    "            if classs=='fish':\n",
    "                if pd>=2:\n",
    "                    purple=(255, 0, 255)\n",
    "                    cv2.rectangle(image, (x, y), (w1, h1), purple, thick)\n",
    "            \n",
    "                    cv2.putText(image,fishtext, \n",
    "                    (1000,700), \n",
    "                    cv2.FONT_HERSHEY_COMPLEX_SMALL, \n",
    "                    1,\n",
    "                    purple,\n",
    "                    2)\n",
    "            \n",
    "                    cv2.imwrite((filename2), image)\n",
    "            \n",
    "            if classs=='SOF':\n",
    "                if pd>=10:\n",
    "                    orange=(255, 153, 0)\n",
    "                    cv2.rectangle(image, (x, y), (w1, h1), orange, thick)\n",
    "            \n",
    "                    cv2.putText(image,softext, \n",
    "                    (900,700), \n",
    "                    cv2.FONT_HERSHEY_COMPLEX_SMALL, \n",
    "                    1,\n",
    "                    orange,\n",
    "                    2)\n",
    "            \n",
    "                    cv2.imwrite((filename2), image)\n",
    "        \n"
   ]
  },
  {
   "cell_type": "code",
   "execution_count": null,
   "metadata": {},
   "outputs": [],
   "source": [
    "###################### Cropping #######################"
   ]
  },
  {
   "cell_type": "code",
   "execution_count": null,
   "metadata": {},
   "outputs": [],
   "source": [
    "################################ automated cropping part (crops each detection in each image) ####################################"
   ]
  },
  {
   "cell_type": "code",
   "execution_count": 597,
   "metadata": {},
   "outputs": [],
   "source": [
    "#first read in output of detection images \n",
    "output_dir=\"C:\\\\Users\\\\nakki\\\\Downloads\\\\txtfiles\\\\txtformat\\\\\"\n",
    "cropped_dir=\"C:\\\\Users\\\\nakki\\\\Downloads\\\\txtfiles\\\\txtformat\\\\cropped images\\\\\"\n",
    "\n",
    "image_name=\"GI-LP0237_10_MOVI0009.avi_image_2016-10-18_10_07_32_33827\""
   ]
  },
  {
   "cell_type": "code",
   "execution_count": 622,
   "metadata": {},
   "outputs": [],
   "source": [
    "os.chdir(input_txt_dir)\n",
    "filename=image_name+\".txt\"\n",
    "\n",
    "with open(filename) as ff:\n",
    "    data=ff.readlines()\n",
    "ff.close()\n",
    "\n",
    "data2=str(data)\n",
    "data3 = re.sub(r'[^\\w\\s{}]','',data2)\n",
    "    \n",
    "coords=data3.split()\n",
    "    \n",
    "newcoords = []\n",
    "for i in range(0, len(coords), 5):\n",
    "    newcoords.append(coords[i : i+5])\n",
    "        \n",
    "coordsfinal2=[]    \n",
    "for i in range(0, len(newcoords)):\n",
    "    detection=newcoords[i]\n",
    "    coordsfinal=[]\n",
    "    for j in range(0, len(detection)):\n",
    "        detection1=detection[j].split\n",
    "        classs=detection[0]\n",
    "        x=int(detection[1])\n",
    "        y=int(detection[2])\n",
    "        w=int(detection[3])\n",
    "        h=int(detection[4])\n",
    "        \n",
    "        w1= x+w #converting width to x_max \n",
    "        h1= y+h  #converting height to y_max \n",
    "        all1= x, y, w1, h1\n",
    "    coordsfinal.append(all1)\n",
    "    coordsfinal2.append(coordsfinal)"
   ]
  },
  {
   "cell_type": "code",
   "execution_count": 647,
   "metadata": {},
   "outputs": [],
   "source": [
    "for i in range(0, len(coordsfinal2)):\n",
    "    boxes=coordsfinal2[i]\n",
    "    for j in range(0, len(boxes)):\n",
    "        xmin, ymin, xmax, ymax = boxes[j]\n",
    "    \n",
    "        os.chdir(images_path)\n",
    "        filename2=image_name+\".png\"\n",
    "        image=cv2.imread(filename2)\n",
    "        os.chdir(cropped_dir)\n",
    "        cropped_img = image[int(ymin)-5:int(ymax)+5, int(xmin)-5:int(xmax)+5]\n",
    "    \n",
    "        filename3=image_name + '_' + str(i) + '.png'\n",
    "        \n",
    "        cv2.imwrite((filename3), cropped_img)\n",
    "    "
   ]
  },
  {
   "cell_type": "code",
   "execution_count": null,
   "metadata": {},
   "outputs": [],
   "source": [
    "os.chdir(output_dir)\n",
    "         #read in original image\n",
    "        filename2=image_name+\".png\"\n",
    "        image=cv2.imread(filename2)\n",
    "        \n",
    "        cropped_img = image[int(y)-5:int(h1)+5, int(x)-5:int(w1)+5]\n",
    "        \n",
    "        os.chdir(cropped_dir)\n",
    "        \n",
    "        filename3=image_name + '_' + classs + '_'+ i + '.png'\n",
    "        \n",
    "        cv2.imwrite((filename3), cropped_img)"
   ]
  }
 ],
 "metadata": {
  "kernelspec": {
   "display_name": "Python 3",
   "language": "python",
   "name": "python3"
  },
  "language_info": {
   "codemirror_mode": {
    "name": "ipython",
    "version": 3
   },
   "file_extension": ".py",
   "mimetype": "text/x-python",
   "name": "python",
   "nbconvert_exporter": "python",
   "pygments_lexer": "ipython3",
   "version": "3.8.3"
  }
 },
 "nbformat": 4,
 "nbformat_minor": 4
}
