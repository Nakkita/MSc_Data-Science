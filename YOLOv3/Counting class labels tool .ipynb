{
 "cells": [
  {
   "cell_type": "markdown",
   "metadata": {},
   "source": [
    "Counting tool"
   ]
  },
  {
   "cell_type": "code",
   "execution_count": 1,
   "metadata": {},
   "outputs": [],
   "source": [
    "import pandas as pd\n",
    "import numpy as np\n",
    "import os"
   ]
  },
  {
   "cell_type": "code",
   "execution_count": 2,
   "metadata": {},
   "outputs": [],
   "source": [
    "def count_labels(directory):\n",
    "    data=[]\n",
    "    column_names=['fish', 'SOF', 'jellyfish']\n",
    "    df = pd.DataFrame(columns = column_names)\n",
    "    \n",
    "    for file in os.listdir(directory):\n",
    "        \n",
    "        # import only txt file\n",
    "        if '.txt' in file:\n",
    "            \n",
    "            files=pd.read_csv(directory+file,sep=' ', header = None)\n",
    "            first_column = files.iloc[:, 0] #extracts first column \n",
    "\n",
    "\n",
    "            check_col=first_column.values.tolist() #converts extracted column from a df format to a list\n",
    "        \n",
    "            col_list_set=set(check_col) #set function extracts unique values from a list and arranges it in order \n",
    "            #in this case according to your labels: 0, 1, 2\n",
    "            \n",
    "        \n",
    "            \n",
    "\n",
    "            zipped = zip(column_names, col_list_set) \n",
    "            a_dictionary = dict(zipped)\n",
    "           \n",
    "            data.append(a_dictionary)\n",
    "            df2 = df.append(data, True) \n",
    "\n",
    "            df3=df2.apply(pd.value_counts)  #counts the frequency at which each value appears\n",
    "            df3[\"sum\"] = df3.sum(axis=1)  \n",
    "\n",
    "\n",
    "    return print(df3)\n",
    "       "
   ]
  },
  {
   "cell_type": "markdown",
   "metadata": {},
   "source": [
    "Note!\n",
    "When reading the output below, ignore column names -fish, SOF, jellyfish. Read the summed value under the column \"sum\". The row values: 0.0, 1.0, 2.0 \n",
    "correspond to the labels according to your txt file. "
   ]
  },
  {
  
   "source": [
    "#original training dataset\n",
    "count_labels('C:\\\\Users\\\\nakki\\\\Downloads\\\\All Masters Data\\\\Original\\\\obj\\\\') "
   ]
  },
  {
   "cell_type": "code",
   "execution_count": 4,
   "metadata": {},
   "outputs": [
    {
     "name": "stdout",
     "output_type": "stream",
     "text": [
      "     fish   SOF  jellyfish    sum\n",
      "0.0   131   NaN        NaN  131.0\n",
      "1.0     9  32.0        NaN   41.0\n",
      "2.0    62  20.0       12.0   94.0\n"
     ]
    }
   ],
   "source": [
    "#original validation dataset\n",
    "count_labels('C:\\\\Users\\\\nakki\\\\Downloads\\\\All Masters Data\\\\Original\\\\valid\\\\') "
   ]
  },
  {
   "cell_type": "code",
   "execution_count": 5,
   "metadata": {},
   "outputs": [
    {
     "name": "stdout",
     "output_type": "stream",
     "text": [
      "     fish   SOF  jellyfish   sum\n",
      "0.0    98   NaN        NaN  98.0\n",
      "1.0    12  32.0        NaN  44.0\n",
      "2.0    78  20.0        NaN  98.0\n"
     ]
    }
   ],
   "source": [
    "#original test dataset\n",
    "count_labels('C:\\\\Users\\\\nakki\\\\Downloads\\\\All Masters Data\\\\Original\\\\test\\\\') "
   ]
  }
 ],
 "metadata": {
  "kernelspec": {
   "display_name": "Python 3",
   "language": "python",
   "name": "python3"
  },
  "language_info": {
   "codemirror_mode": {
    "name": "ipython",
    "version": 3
   },
   "file_extension": ".py",
   "mimetype": "text/x-python",
   "name": "python",
   "nbconvert_exporter": "python",
   "pygments_lexer": "ipython3",
   "version": "3.8.3"
  }
 },
 "nbformat": 4,
 "nbformat_minor": 4
}
